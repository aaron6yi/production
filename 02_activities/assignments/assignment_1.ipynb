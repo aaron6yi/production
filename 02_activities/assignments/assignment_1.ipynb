{
 "cells": [
  {
   "cell_type": "markdown",
   "metadata": {},
   "source": [
    "    # Working with parquet files\n",
    "    \n",
    "    ## Objective\n",
    "    \n",
    "    + In this assignment, we will use the data downloaded with the module `data_manager` to create features.\n",
    "    \n",
    "    (11 pts total)\n",
    "    \n",
    "    ## Prerequisites\n",
    "    \n",
    "    + This notebook assumes that price data is available to you in the environment variable `PRICE_DATA`. If you have not done so, then execute the notebook `01_materials/labs/2_data_engineering.ipynb` to create this data set.\n",
    "    "
   ]
  },
  {
   "cell_type": "markdown",
   "metadata": {},
   "source": [
    "+ Load the environment variables using dotenv. (1 pt)"
   ]
  },
  {
   "cell_type": "code",
   "outputs": [],
   "source": [
    "# Write your code below.\n",
    "#%load_ext dotenv\n",
    "%reload_ext dotenv\n",
    "%dotenv ../01_materials/labs/.env"
   ],
   "metadata": {
    "ExecuteTime": {
     "end_time": "2024-10-28T05:44:00.578604200Z",
     "start_time": "2024-10-28T05:44:00.561101400Z"
    }
   },
   "execution_count": 135
  },
  {
   "cell_type": "code",
   "execution_count": 136,
   "metadata": {
    "ExecuteTime": {
     "end_time": "2024-10-28T05:44:00.600603300Z",
     "start_time": "2024-10-28T05:44:00.580603800Z"
    }
   },
   "outputs": [],
   "source": [
    "import dask.dataframe as dd"
   ]
  },
  {
   "cell_type": "markdown",
   "metadata": {},
   "source": [
    "+ Load the environment variable `PRICE_DATA`.\n",
    "+ Use [glob](https://docs.python.org/3/library/glob.html) to find the path of all parquet files in the directory `PRICE_DATA`.\n",
    "\n",
    "(1pt)"
   ]
  },
  {
   "cell_type": "code",
   "execution_count": 137,
   "metadata": {
    "ExecuteTime": {
     "end_time": "2024-10-28T05:44:01.568061Z",
     "start_time": "2024-10-28T05:44:00.593605Z"
    }
   },
   "outputs": [
    {
     "name": "stdout",
     "output_type": "stream",
     "text": [
      "11207\n"
     ]
    }
   ],
   "source": [
    "import os\n",
    "from glob import glob\n",
    "\n",
    "directory_path = os.getenv(\"PRICE_DATA\", '../../05_src/data/prices')\n",
    "parquet_files = glob(f\"{directory_path}/**/*.0.parquet\", recursive=True)\n",
    "\n",
    "print(len(parquet_files))"
   ]
  },
  {
   "cell_type": "markdown",
   "metadata": {},
   "source": [
    "For each ticker and using Dask, do the following:\n",
    "\n",
    "+ Add lags for variables Close and Adj_Close.\n",
    "+ Add returns based on Adjusted Close:\n",
    "    \n",
    "    - `returns`: (Adj Close / Adj Close_lag) - 1\n",
    "\n",
    "+ Add the following range: \n",
    "\n",
    "    - `hi_lo_range`: this is the day's High minus Low.\n",
    "\n",
    "+ Assign the result to `dd_feat`.\n",
    "\n",
    "(4 pt)"
   ]
  },
  {
   "cell_type": "code",
   "execution_count": 138,
   "metadata": {
    "ExecuteTime": {
     "end_time": "2024-10-28T05:44:02.215318100Z",
     "start_time": "2024-10-28T05:44:01.570061900Z"
    }
   },
   "outputs": [
    {
     "name": "stdout",
     "output_type": "stream",
     "text": [
      "Number of partitions: 11207\n"
     ]
    }
   ],
   "source": [
    "# Write your code below.\n",
    "import dask.dataframe as dd\n",
    "dd_px = dd.read_parquet(parquet_files)\n",
    "print(\"Number of partitions:\", dd_px.npartitions)"
   ]
  },
  {
   "cell_type": "code",
   "outputs": [
    {
     "data": {
      "text/plain": "Price                       Date  Adj Close      Close       High        Low  \\\nticker                                                                         \nA      2000-01-03 00:00:00+00:00  43.463028  51.502148  56.464592  48.193848   \nA      2000-01-04 00:00:00+00:00  40.142937  47.567955  49.266811  46.316166   \nA      2000-01-05 00:00:00+00:00  37.652863  44.617310  47.567955  43.141991   \nA      2000-01-06 00:00:00+00:00  36.219193  42.918453  44.349072  41.577251   \nA      2000-01-07 00:00:00+00:00  39.237450  46.494991  47.165592  42.203148   \n\nPrice        Open   Volume       sector                       subsector  year  \nticker                                                                         \nA       56.330471  4674353  Health Care  Life Sciences Tools & Services  2000  \nA       48.730328  4765083  Health Care  Life Sciences Tools & Services  2000  \nA       47.389126  5758642  Health Care  Life Sciences Tools & Services  2000  \nA       44.080830  2534434  Health Care  Life Sciences Tools & Services  2000  \nA       42.247852  2819626  Health Care  Life Sciences Tools & Services  2000  ",
      "text/html": "<div>\n<style scoped>\n    .dataframe tbody tr th:only-of-type {\n        vertical-align: middle;\n    }\n\n    .dataframe tbody tr th {\n        vertical-align: top;\n    }\n\n    .dataframe thead th {\n        text-align: right;\n    }\n</style>\n<table border=\"1\" class=\"dataframe\">\n  <thead>\n    <tr style=\"text-align: right;\">\n      <th>Price</th>\n      <th>Date</th>\n      <th>Adj Close</th>\n      <th>Close</th>\n      <th>High</th>\n      <th>Low</th>\n      <th>Open</th>\n      <th>Volume</th>\n      <th>sector</th>\n      <th>subsector</th>\n      <th>year</th>\n    </tr>\n    <tr>\n      <th>ticker</th>\n      <th></th>\n      <th></th>\n      <th></th>\n      <th></th>\n      <th></th>\n      <th></th>\n      <th></th>\n      <th></th>\n      <th></th>\n      <th></th>\n    </tr>\n  </thead>\n  <tbody>\n    <tr>\n      <th>A</th>\n      <td>2000-01-03 00:00:00+00:00</td>\n      <td>43.463028</td>\n      <td>51.502148</td>\n      <td>56.464592</td>\n      <td>48.193848</td>\n      <td>56.330471</td>\n      <td>4674353</td>\n      <td>Health Care</td>\n      <td>Life Sciences Tools &amp; Services</td>\n      <td>2000</td>\n    </tr>\n    <tr>\n      <th>A</th>\n      <td>2000-01-04 00:00:00+00:00</td>\n      <td>40.142937</td>\n      <td>47.567955</td>\n      <td>49.266811</td>\n      <td>46.316166</td>\n      <td>48.730328</td>\n      <td>4765083</td>\n      <td>Health Care</td>\n      <td>Life Sciences Tools &amp; Services</td>\n      <td>2000</td>\n    </tr>\n    <tr>\n      <th>A</th>\n      <td>2000-01-05 00:00:00+00:00</td>\n      <td>37.652863</td>\n      <td>44.617310</td>\n      <td>47.567955</td>\n      <td>43.141991</td>\n      <td>47.389126</td>\n      <td>5758642</td>\n      <td>Health Care</td>\n      <td>Life Sciences Tools &amp; Services</td>\n      <td>2000</td>\n    </tr>\n    <tr>\n      <th>A</th>\n      <td>2000-01-06 00:00:00+00:00</td>\n      <td>36.219193</td>\n      <td>42.918453</td>\n      <td>44.349072</td>\n      <td>41.577251</td>\n      <td>44.080830</td>\n      <td>2534434</td>\n      <td>Health Care</td>\n      <td>Life Sciences Tools &amp; Services</td>\n      <td>2000</td>\n    </tr>\n    <tr>\n      <th>A</th>\n      <td>2000-01-07 00:00:00+00:00</td>\n      <td>39.237450</td>\n      <td>46.494991</td>\n      <td>47.165592</td>\n      <td>42.203148</td>\n      <td>42.247852</td>\n      <td>2819626</td>\n      <td>Health Care</td>\n      <td>Life Sciences Tools &amp; Services</td>\n      <td>2000</td>\n    </tr>\n  </tbody>\n</table>\n</div>"
     },
     "execution_count": 139,
     "metadata": {},
     "output_type": "execute_result"
    }
   ],
   "source": [
    "dd_px = dd_px.repartition(npartitions=30)\n",
    "dd_px.head()"
   ],
   "metadata": {
    "collapsed": false,
    "ExecuteTime": {
     "end_time": "2024-10-28T05:44:03.123556Z",
     "start_time": "2024-10-28T05:44:02.216318300Z"
    }
   },
   "execution_count": 139
  },
  {
   "cell_type": "code",
   "outputs": [
    {
     "data": {
      "text/plain": "Price                       Date  Adj Close      Close       High        Low  \\\nticker                                                                         \nA      2000-01-03 00:00:00+00:00  43.463028  51.502148  56.464592  48.193848   \nA      2000-01-04 00:00:00+00:00  40.142937  47.567955  49.266811  46.316166   \nA      2000-01-05 00:00:00+00:00  37.652863  44.617310  47.567955  43.141991   \nA      2000-01-06 00:00:00+00:00  36.219193  42.918453  44.349072  41.577251   \nA      2000-01-07 00:00:00+00:00  39.237450  46.494991  47.165592  42.203148   \nA      2000-01-10 00:00:00+00:00  41.614330  49.311516  49.803291  48.327969   \nA      2000-01-11 00:00:00+00:00  41.048420  48.640915  49.311516  47.523247   \nA      2000-01-12 00:00:00+00:00  40.218395  47.657368  48.640915  45.824390   \nA      2000-01-13 00:00:00+00:00  40.822033  48.372677  49.937412  47.210300   \nA      2000-01-14 00:00:00+00:00  41.274788  48.909157  49.624462  47.925610   \n\nPrice        Open   Volume       sector                       subsector  year  \\\nticker                                                                          \nA       56.330471  4674353  Health Care  Life Sciences Tools & Services  2000   \nA       48.730328  4765083  Health Care  Life Sciences Tools & Services  2000   \nA       47.389126  5758642  Health Care  Life Sciences Tools & Services  2000   \nA       44.080830  2534434  Health Care  Life Sciences Tools & Services  2000   \nA       42.247852  2819626  Health Care  Life Sciences Tools & Services  2000   \nA       49.356224  2148446  Health Care  Life Sciences Tools & Services  2000   \nA       49.311516  1855985  Health Care  Life Sciences Tools & Services  2000   \nA       48.640915  1429874  Health Care  Life Sciences Tools & Services  2000   \nA       48.909157  1134337  Health Care  Life Sciences Tools & Services  2000   \nA       47.925610  1316916  Health Care  Life Sciences Tools & Services  2000   \n\nPrice   Close_lag  Adj_Close_lag   returns  hi_lo_range  \nticker                                                   \nA             NaN            NaN       NaN     8.270744  \nA       51.502148      43.463028 -0.076389     2.950645  \nA       47.567955      40.142937 -0.062030     4.425964  \nA       44.617310      37.652863 -0.038076     2.771820  \nA       42.918453      36.219193  0.083333     4.962444  \nA       46.494991      39.237450  0.060577     1.475323  \nA       49.311516      41.614330 -0.013599     1.788269  \nA       48.640915      41.048420 -0.020221     2.816525  \nA       47.657368      40.218395  0.015009     2.727112  \nA       48.372677      40.822033  0.011091     1.698853  ",
      "text/html": "<div>\n<style scoped>\n    .dataframe tbody tr th:only-of-type {\n        vertical-align: middle;\n    }\n\n    .dataframe tbody tr th {\n        vertical-align: top;\n    }\n\n    .dataframe thead th {\n        text-align: right;\n    }\n</style>\n<table border=\"1\" class=\"dataframe\">\n  <thead>\n    <tr style=\"text-align: right;\">\n      <th>Price</th>\n      <th>Date</th>\n      <th>Adj Close</th>\n      <th>Close</th>\n      <th>High</th>\n      <th>Low</th>\n      <th>Open</th>\n      <th>Volume</th>\n      <th>sector</th>\n      <th>subsector</th>\n      <th>year</th>\n      <th>Close_lag</th>\n      <th>Adj_Close_lag</th>\n      <th>returns</th>\n      <th>hi_lo_range</th>\n    </tr>\n    <tr>\n      <th>ticker</th>\n      <th></th>\n      <th></th>\n      <th></th>\n      <th></th>\n      <th></th>\n      <th></th>\n      <th></th>\n      <th></th>\n      <th></th>\n      <th></th>\n      <th></th>\n      <th></th>\n      <th></th>\n      <th></th>\n    </tr>\n  </thead>\n  <tbody>\n    <tr>\n      <th>A</th>\n      <td>2000-01-03 00:00:00+00:00</td>\n      <td>43.463028</td>\n      <td>51.502148</td>\n      <td>56.464592</td>\n      <td>48.193848</td>\n      <td>56.330471</td>\n      <td>4674353</td>\n      <td>Health Care</td>\n      <td>Life Sciences Tools &amp; Services</td>\n      <td>2000</td>\n      <td>NaN</td>\n      <td>NaN</td>\n      <td>NaN</td>\n      <td>8.270744</td>\n    </tr>\n    <tr>\n      <th>A</th>\n      <td>2000-01-04 00:00:00+00:00</td>\n      <td>40.142937</td>\n      <td>47.567955</td>\n      <td>49.266811</td>\n      <td>46.316166</td>\n      <td>48.730328</td>\n      <td>4765083</td>\n      <td>Health Care</td>\n      <td>Life Sciences Tools &amp; Services</td>\n      <td>2000</td>\n      <td>51.502148</td>\n      <td>43.463028</td>\n      <td>-0.076389</td>\n      <td>2.950645</td>\n    </tr>\n    <tr>\n      <th>A</th>\n      <td>2000-01-05 00:00:00+00:00</td>\n      <td>37.652863</td>\n      <td>44.617310</td>\n      <td>47.567955</td>\n      <td>43.141991</td>\n      <td>47.389126</td>\n      <td>5758642</td>\n      <td>Health Care</td>\n      <td>Life Sciences Tools &amp; Services</td>\n      <td>2000</td>\n      <td>47.567955</td>\n      <td>40.142937</td>\n      <td>-0.062030</td>\n      <td>4.425964</td>\n    </tr>\n    <tr>\n      <th>A</th>\n      <td>2000-01-06 00:00:00+00:00</td>\n      <td>36.219193</td>\n      <td>42.918453</td>\n      <td>44.349072</td>\n      <td>41.577251</td>\n      <td>44.080830</td>\n      <td>2534434</td>\n      <td>Health Care</td>\n      <td>Life Sciences Tools &amp; Services</td>\n      <td>2000</td>\n      <td>44.617310</td>\n      <td>37.652863</td>\n      <td>-0.038076</td>\n      <td>2.771820</td>\n    </tr>\n    <tr>\n      <th>A</th>\n      <td>2000-01-07 00:00:00+00:00</td>\n      <td>39.237450</td>\n      <td>46.494991</td>\n      <td>47.165592</td>\n      <td>42.203148</td>\n      <td>42.247852</td>\n      <td>2819626</td>\n      <td>Health Care</td>\n      <td>Life Sciences Tools &amp; Services</td>\n      <td>2000</td>\n      <td>42.918453</td>\n      <td>36.219193</td>\n      <td>0.083333</td>\n      <td>4.962444</td>\n    </tr>\n    <tr>\n      <th>A</th>\n      <td>2000-01-10 00:00:00+00:00</td>\n      <td>41.614330</td>\n      <td>49.311516</td>\n      <td>49.803291</td>\n      <td>48.327969</td>\n      <td>49.356224</td>\n      <td>2148446</td>\n      <td>Health Care</td>\n      <td>Life Sciences Tools &amp; Services</td>\n      <td>2000</td>\n      <td>46.494991</td>\n      <td>39.237450</td>\n      <td>0.060577</td>\n      <td>1.475323</td>\n    </tr>\n    <tr>\n      <th>A</th>\n      <td>2000-01-11 00:00:00+00:00</td>\n      <td>41.048420</td>\n      <td>48.640915</td>\n      <td>49.311516</td>\n      <td>47.523247</td>\n      <td>49.311516</td>\n      <td>1855985</td>\n      <td>Health Care</td>\n      <td>Life Sciences Tools &amp; Services</td>\n      <td>2000</td>\n      <td>49.311516</td>\n      <td>41.614330</td>\n      <td>-0.013599</td>\n      <td>1.788269</td>\n    </tr>\n    <tr>\n      <th>A</th>\n      <td>2000-01-12 00:00:00+00:00</td>\n      <td>40.218395</td>\n      <td>47.657368</td>\n      <td>48.640915</td>\n      <td>45.824390</td>\n      <td>48.640915</td>\n      <td>1429874</td>\n      <td>Health Care</td>\n      <td>Life Sciences Tools &amp; Services</td>\n      <td>2000</td>\n      <td>48.640915</td>\n      <td>41.048420</td>\n      <td>-0.020221</td>\n      <td>2.816525</td>\n    </tr>\n    <tr>\n      <th>A</th>\n      <td>2000-01-13 00:00:00+00:00</td>\n      <td>40.822033</td>\n      <td>48.372677</td>\n      <td>49.937412</td>\n      <td>47.210300</td>\n      <td>48.909157</td>\n      <td>1134337</td>\n      <td>Health Care</td>\n      <td>Life Sciences Tools &amp; Services</td>\n      <td>2000</td>\n      <td>47.657368</td>\n      <td>40.218395</td>\n      <td>0.015009</td>\n      <td>2.727112</td>\n    </tr>\n    <tr>\n      <th>A</th>\n      <td>2000-01-14 00:00:00+00:00</td>\n      <td>41.274788</td>\n      <td>48.909157</td>\n      <td>49.624462</td>\n      <td>47.925610</td>\n      <td>47.925610</td>\n      <td>1316916</td>\n      <td>Health Care</td>\n      <td>Life Sciences Tools &amp; Services</td>\n      <td>2000</td>\n      <td>48.372677</td>\n      <td>40.822033</td>\n      <td>0.011091</td>\n      <td>1.698853</td>\n    </tr>\n  </tbody>\n</table>\n</div>"
     },
     "execution_count": 140,
     "metadata": {},
     "output_type": "execute_result"
    }
   ],
   "source": [
    "dd_px['Close_lag'] = dd_px['Close'].shift(1)\n",
    "dd_px['Adj_Close_lag'] = dd_px['Adj Close'].shift(1)\n",
    "dd_px['returns'] = (dd_px['Adj Close'] / dd_px['Adj_Close_lag']) - 1\n",
    "dd_px['hi_lo_range'] = dd_px['High'] - dd_px['Low']\n",
    "\n",
    "dd_feat=dd_px\n",
    "dd_feat.head(10)"
   ],
   "metadata": {
    "collapsed": false,
    "ExecuteTime": {
     "end_time": "2024-10-28T05:44:04.094197600Z",
     "start_time": "2024-10-28T05:44:03.125978400Z"
    }
   },
   "execution_count": 140
  },
  {
   "cell_type": "markdown",
   "metadata": {},
   "source": [
    "+ Convert the Dask data frame to a pandas data frame. \n",
    "+ Add a rolling average return calculation with a window of 10 days.\n",
    "+ *Tip*: Consider using `.rolling(10).mean()`.\n",
    "\n",
    "(3 pt)"
   ]
  },
  {
   "cell_type": "code",
   "outputs": [
    {
     "data": {
      "text/plain": "Price                       Date  Adj Close      Close       High        Low  \\\nticker                                                                         \nA      2000-01-03 00:00:00+00:00  43.463028  51.502148  56.464592  48.193848   \nA      2000-01-04 00:00:00+00:00  40.142937  47.567955  49.266811  46.316166   \nA      2000-01-05 00:00:00+00:00  37.652863  44.617310  47.567955  43.141991   \nA      2000-01-06 00:00:00+00:00  36.219193  42.918453  44.349072  41.577251   \nA      2000-01-07 00:00:00+00:00  39.237450  46.494991  47.165592  42.203148   \n\nPrice        Open   Volume       sector                       subsector  year  \\\nticker                                                                          \nA       56.330471  4674353  Health Care  Life Sciences Tools & Services  2000   \nA       48.730328  4765083  Health Care  Life Sciences Tools & Services  2000   \nA       47.389126  5758642  Health Care  Life Sciences Tools & Services  2000   \nA       44.080830  2534434  Health Care  Life Sciences Tools & Services  2000   \nA       42.247852  2819626  Health Care  Life Sciences Tools & Services  2000   \n\nPrice   Close_lag  Adj_Close_lag   returns  hi_lo_range  \nticker                                                   \nA             NaN            NaN       NaN     8.270744  \nA       51.502148      43.463028 -0.076389     2.950645  \nA       47.567955      40.142937 -0.062030     4.425964  \nA       44.617310      37.652863 -0.038076     2.771820  \nA       42.918453      36.219193  0.083333     4.962444  ",
      "text/html": "<div>\n<style scoped>\n    .dataframe tbody tr th:only-of-type {\n        vertical-align: middle;\n    }\n\n    .dataframe tbody tr th {\n        vertical-align: top;\n    }\n\n    .dataframe thead th {\n        text-align: right;\n    }\n</style>\n<table border=\"1\" class=\"dataframe\">\n  <thead>\n    <tr style=\"text-align: right;\">\n      <th>Price</th>\n      <th>Date</th>\n      <th>Adj Close</th>\n      <th>Close</th>\n      <th>High</th>\n      <th>Low</th>\n      <th>Open</th>\n      <th>Volume</th>\n      <th>sector</th>\n      <th>subsector</th>\n      <th>year</th>\n      <th>Close_lag</th>\n      <th>Adj_Close_lag</th>\n      <th>returns</th>\n      <th>hi_lo_range</th>\n    </tr>\n    <tr>\n      <th>ticker</th>\n      <th></th>\n      <th></th>\n      <th></th>\n      <th></th>\n      <th></th>\n      <th></th>\n      <th></th>\n      <th></th>\n      <th></th>\n      <th></th>\n      <th></th>\n      <th></th>\n      <th></th>\n      <th></th>\n    </tr>\n  </thead>\n  <tbody>\n    <tr>\n      <th>A</th>\n      <td>2000-01-03 00:00:00+00:00</td>\n      <td>43.463028</td>\n      <td>51.502148</td>\n      <td>56.464592</td>\n      <td>48.193848</td>\n      <td>56.330471</td>\n      <td>4674353</td>\n      <td>Health Care</td>\n      <td>Life Sciences Tools &amp; Services</td>\n      <td>2000</td>\n      <td>NaN</td>\n      <td>NaN</td>\n      <td>NaN</td>\n      <td>8.270744</td>\n    </tr>\n    <tr>\n      <th>A</th>\n      <td>2000-01-04 00:00:00+00:00</td>\n      <td>40.142937</td>\n      <td>47.567955</td>\n      <td>49.266811</td>\n      <td>46.316166</td>\n      <td>48.730328</td>\n      <td>4765083</td>\n      <td>Health Care</td>\n      <td>Life Sciences Tools &amp; Services</td>\n      <td>2000</td>\n      <td>51.502148</td>\n      <td>43.463028</td>\n      <td>-0.076389</td>\n      <td>2.950645</td>\n    </tr>\n    <tr>\n      <th>A</th>\n      <td>2000-01-05 00:00:00+00:00</td>\n      <td>37.652863</td>\n      <td>44.617310</td>\n      <td>47.567955</td>\n      <td>43.141991</td>\n      <td>47.389126</td>\n      <td>5758642</td>\n      <td>Health Care</td>\n      <td>Life Sciences Tools &amp; Services</td>\n      <td>2000</td>\n      <td>47.567955</td>\n      <td>40.142937</td>\n      <td>-0.062030</td>\n      <td>4.425964</td>\n    </tr>\n    <tr>\n      <th>A</th>\n      <td>2000-01-06 00:00:00+00:00</td>\n      <td>36.219193</td>\n      <td>42.918453</td>\n      <td>44.349072</td>\n      <td>41.577251</td>\n      <td>44.080830</td>\n      <td>2534434</td>\n      <td>Health Care</td>\n      <td>Life Sciences Tools &amp; Services</td>\n      <td>2000</td>\n      <td>44.617310</td>\n      <td>37.652863</td>\n      <td>-0.038076</td>\n      <td>2.771820</td>\n    </tr>\n    <tr>\n      <th>A</th>\n      <td>2000-01-07 00:00:00+00:00</td>\n      <td>39.237450</td>\n      <td>46.494991</td>\n      <td>47.165592</td>\n      <td>42.203148</td>\n      <td>42.247852</td>\n      <td>2819626</td>\n      <td>Health Care</td>\n      <td>Life Sciences Tools &amp; Services</td>\n      <td>2000</td>\n      <td>42.918453</td>\n      <td>36.219193</td>\n      <td>0.083333</td>\n      <td>4.962444</td>\n    </tr>\n  </tbody>\n</table>\n</div>"
     },
     "execution_count": 141,
     "metadata": {},
     "output_type": "execute_result"
    }
   ],
   "source": [
    "df_feat = dd_feat.compute()\n",
    "df_feat.head()"
   ],
   "metadata": {
    "collapsed": false,
    "ExecuteTime": {
     "end_time": "2024-10-28T05:44:32.159642200Z",
     "start_time": "2024-10-28T05:44:04.094197600Z"
    }
   },
   "execution_count": 141
  },
  {
   "cell_type": "code",
   "execution_count": 142,
   "metadata": {
    "ExecuteTime": {
     "end_time": "2024-10-28T05:44:32.481346100Z",
     "start_time": "2024-10-28T05:44:32.161645200Z"
    }
   },
   "outputs": [
    {
     "name": "stdout",
     "output_type": "stream",
     "text": [
      "Price    returns  rolling_avg_return\n",
      "ticker                              \n",
      "A            NaN                 NaN\n",
      "A      -0.076389                 NaN\n",
      "A      -0.062030                 NaN\n",
      "A      -0.038076                 NaN\n",
      "A       0.083333                 NaN\n",
      "A       0.060577                 NaN\n",
      "A      -0.013599                 NaN\n",
      "A      -0.020221                 NaN\n",
      "A       0.015009                 NaN\n",
      "A       0.011091                 NaN\n",
      "A       0.045704            0.000540\n",
      "A      -0.020979            0.006081\n",
      "A      -0.026786            0.009605\n",
      "A       0.009174            0.014330\n",
      "A      -0.003636            0.005633\n"
     ]
    }
   ],
   "source": [
    "def calculate_rolling_avg_return(group):\n",
    "    return group.rolling(window=10).mean()\n",
    "\n",
    "df_feat['rolling_avg_return'] = df_feat.groupby('ticker')['returns'].transform(calculate_rolling_avg_return)\n",
    "\n",
    "print(df_feat[['returns', 'rolling_avg_return']].head(15)) "
   ]
  },
  {
   "cell_type": "markdown",
   "metadata": {},
   "source": [
    "Please comment:\n",
    "\n",
    "+ Was it necessary to convert to pandas to calculate the moving average return?\n",
    "No, can be computed within Dask dataframe\n",
    "+ Would it have been better to do it in Dask? Why? \n",
    "Depends on the data size. If the data size is larger than the capacity of the computer memory, it is better to use Dask to slice the data into many partitions and take advantage of parallel computing\n",
    "\n",
    "\n",
    "(1 pt)"
   ]
  },
  {
   "cell_type": "markdown",
   "metadata": {},
   "source": [
    "## Criteria\n",
    "\n",
    "The [rubric](./assignment_1_rubric_clean.xlsx) contains the criteria for grading."
   ]
  },
  {
   "cell_type": "markdown",
   "metadata": {},
   "source": [
    "## Submission Information\n",
    "\n",
    "🚨 **Please review our [Assignment Submission Guide](https://github.com/UofT-DSI/onboarding/blob/main/onboarding_documents/submissions.md)** 🚨 for detailed instructions on how to format, branch, and submit your work. Following these guidelines is crucial for your submissions to be evaluated correctly.\n",
    "\n",
    "### Submission Parameters:\n",
    "* Submission Due Date: `HH:MM AM/PM - DD/MM/YYYY`\n",
    "* The branch name for your repo should be: `assignment-1`\n",
    "* What to submit for this assignment:\n",
    "    * This Jupyter Notebook (assignment_1.ipynb) should be populated and should be the only change in your pull request.\n",
    "* What the pull request link should look like for this assignment: `https://github.com/<your_github_username>/production/pull/<pr_id>`\n",
    "    * Open a private window in your browser. Copy and paste the link to your pull request into the address bar. Make sure you can see your pull request properly. This helps the technical facilitator and learning support staff review your submission easily.\n",
    "\n",
    "Checklist:\n",
    "- [ ] Created a branch with the correct naming convention.\n",
    "- [ ] Ensured that the repository is public.\n",
    "- [ ] Reviewed the PR description guidelines and adhered to them.\n",
    "- [ ] Verify that the link is accessible in a private browser window.\n",
    "\n",
    "If you encounter any difficulties or have questions, please don't hesitate to reach out to our team via our Slack at `#cohort-3-help`. Our Technical Facilitators and Learning Support staff are here to help you navigate any challenges."
   ]
  }
 ],
 "metadata": {
  "kernelspec": {
   "display_name": "env",
   "language": "python",
   "name": "python3"
  },
  "language_info": {
   "codemirror_mode": {
    "name": "ipython",
    "version": 3
   },
   "file_extension": ".py",
   "mimetype": "text/x-python",
   "name": "python",
   "nbconvert_exporter": "python",
   "pygments_lexer": "ipython3",
   "version": "3.11.0"
  }
 },
 "nbformat": 4,
 "nbformat_minor": 2
}
